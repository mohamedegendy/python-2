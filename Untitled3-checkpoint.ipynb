{
 "cells": [
  {
   "cell_type": "markdown",
   "id": "abaf665c",
   "metadata": {},
   "source": [
    "# wellcome code \n",
    "#mohamed Elgendy"
   ]
  },
  {
   "cell_type": "code",
   "execution_count": 4,
   "id": "297834a8",
   "metadata": {},
   "outputs": [
    {
     "name": "stdout",
     "output_type": "stream",
     "text": [
      "please enter first number:150\n",
      "please enter the operator: -\n",
      "please enter second number:150\n",
      "0\n"
     ]
    }
   ],
   "source": [
    "num1 = int(input(\"please enter first number:\"))\n",
    "operator = input(\"please enter the operator: \")\n",
    "num2 = int(input(\"please enter second number:\"))\n",
    "if operator == \"+\":\n",
    "    print(num1+num2)\n",
    "    \n",
    "elif operator == \"-\":\n",
    "    print(num1-num2)\n",
    "    \n",
    "elif operator == \"/\":\n",
    "    print(num1/num2)\n",
    "    \n",
    "elif operator == \"*\":\n",
    "    print(num1*num2)\n",
    "    \n",
    "else:\n",
    "    print(\"wrong operator please  try again\")\n",
    "    "
   ]
  },
  {
   "cell_type": "code",
   "execution_count": null,
   "id": "54c2e830",
   "metadata": {},
   "outputs": [],
   "source": [
    "cal"
   ]
  },
  {
   "cell_type": "code",
   "execution_count": null,
   "id": "91b4a9ca",
   "metadata": {},
   "outputs": [],
   "source": []
  }
 ],
 "metadata": {
  "kernelspec": {
   "display_name": "Python 3 (ipykernel)",
   "language": "python",
   "name": "python3"
  },
  "language_info": {
   "codemirror_mode": {
    "name": "ipython",
    "version": 3
   },
   "file_extension": ".py",
   "mimetype": "text/x-python",
   "name": "python",
   "nbconvert_exporter": "python",
   "pygments_lexer": "ipython3",
   "version": "3.11.3"
  }
 },
 "nbformat": 4,
 "nbformat_minor": 5
}
